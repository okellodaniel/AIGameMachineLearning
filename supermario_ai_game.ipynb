{
 "cells": [
  {
   "cell_type": "markdown",
   "metadata": {},
   "source": [
    "1. SetUp SuperMario"
   ]
  },
  {
   "cell_type": "code",
   "execution_count": null,
   "metadata": {},
   "outputs": [],
   "source": [
    "'''SetUp of Super Mario'''\n",
    "\n",
    "'''\n",
    "\n",
    "        Libraries installed\n",
    "==================================\n",
    "1. pip install gym-super-mario-bros  => (\"Allows us to play Mario in Python\") {https://pypi.org/project/gym-super-mario-bros/}\n",
    "2. pip install nes-py {https://pypi.org/project/nes-py/}\n",
    "'''"
   ]
  },
  {
   "cell_type": "code",
   "execution_count": 3,
   "metadata": {},
   "outputs": [],
   "source": [
    "'''Importing Dependencies'''\n",
    "# 1. Import Super Mario\n",
    "# 2. Import the Joypad Wrapper (\"Wraps the Movement of our model ==> Joypadspace wrapper makes it easier for our AI to learn how to play\")\n",
    "# 3. Import the Simplified Controls\n",
    "\n",
    "import gym_super_mario_bros\n",
    "from nes_py.wrappers import JoypadSpace\n",
    "from gym_super_mario_bros.actions import SIMPLE_MOVEMENT\n",
    "\n"
   ]
  },
  {
   "cell_type": "code",
   "execution_count": 4,
   "metadata": {},
   "outputs": [
    {
     "data": {
      "text/plain": [
       "[['NOOP'],\n",
       " ['right'],\n",
       " ['right', 'A'],\n",
       " ['right', 'B'],\n",
       " ['right', 'A', 'B'],\n",
       " ['A'],\n",
       " ['left']]"
      ]
     },
     "execution_count": 4,
     "metadata": {},
     "output_type": "execute_result"
    }
   ],
   "source": [
    "SIMPLE_MOVEMENT # Shows us the Directions the AI is limited to."
   ]
  },
  {
   "cell_type": "code",
   "execution_count": 5,
   "metadata": {},
   "outputs": [],
   "source": [
    "# SetUp the Game\n",
    "# Environment\n",
    "env = gym_super_mario_bros.make('SuperMarioBros-v0')\n",
    "env = JoypadSpace(env,SIMPLE_MOVEMENT)"
   ]
  },
  {
   "cell_type": "code",
   "execution_count": 6,
   "metadata": {},
   "outputs": [
    {
     "data": {
      "text/plain": [
       "(240, 256, 3)"
      ]
     },
     "execution_count": 6,
     "metadata": {},
     "output_type": "execute_result"
    }
   ],
   "source": [
    "env.action_space # (Try with or without Wrapper) [Lists the Number of Actions]\n",
    "# Check the Observation Space\n",
    "env.observation_space.shape"
   ]
  },
  {
   "cell_type": "code",
   "execution_count": null,
   "metadata": {},
   "outputs": [],
   "source": [
    "# Flag set to True, aloows to start the game\n",
    "done = True\n",
    "\n",
    " # Loop through each Frame in the game\n",
    "for step in range(100000):\n",
    "    if done:\n",
    "        # Start the game\n",
    "        env.reset() # Allows us to restart the game\n",
    "\n",
    "    # Pass through an action to the game  && Do random actions\n",
    "    state,reward, done, info = env.step(env.action_space.sample())\n",
    "    \n",
    "    # Show game on the Screen\n",
    "    env.render()\n",
    "\n",
    "# Close the Game\n",
    "env.close()"
   ]
  },
  {
   "cell_type": "code",
   "execution_count": 8,
   "metadata": {},
   "outputs": [
    {
     "data": {
      "text/plain": [
       "' \\n- State => (env.step(1)[0] (Particular frame)\\n- Reward => (env.step(1)[1] (Reward obtained)\\n- Done => (env.step(1)[0] (Whether we are dead or not)\\n- Info => (env.step(1)[0] (Basic Info)\\n\\n'"
      ]
     },
     "execution_count": 8,
     "metadata": {},
     "output_type": "execute_result"
    }
   ],
   "source": [
    "'''Explaining the State, Reward, Done && Info'''\n",
    "# env.reset()\n",
    "state = env.reset()\n",
    "state.shape # A state is basically a Frame from the game\n",
    "\n",
    "# On taking a Step, 4 values are returned\n",
    "''' \n",
    "- State => (env.step(1)[0] (Particular frame)\n",
    "- Reward => (env.step(1)[1] (Reward obtained)\n",
    "- Done => (env.step(1)[0] (Whether we are dead or not)\n",
    "- Info => (env.step(1)[0] (Basic Info)\n",
    "\n",
    "'''\n",
    "# env.step(1)[0]\n",
    "# env.step(1)[1]\n",
    "# env.step(1)[2]\n",
    "# env.step(1)[3]"
   ]
  },
  {
   "cell_type": "markdown",
   "metadata": {},
   "source": [
    "2. Pre-Processing the Game Environment"
   ]
  },
  {
   "cell_type": "code",
   "execution_count": 9,
   "metadata": {},
   "outputs": [
    {
     "data": {
      "text/plain": [
       "'     \\n    Pre-processing steps\\n============================\\n-  Gray Scaling (Cuts down data the AI has to learn from)\\n-  Frame Stacking (Gives our model memory, Helps determine Trajectory and Velocity)\\n'"
      ]
     },
     "execution_count": 9,
     "metadata": {},
     "output_type": "execute_result"
    }
   ],
   "source": [
    "'''     \n",
    "    Pre-processing steps\n",
    "============================\n",
    "-  Gray Scaling (Cuts down data the AI has to learn from)\n",
    "-  Frame Stacking (Gives our model memory, Helps determine Trajectory and Velocity)\n",
    "'''"
   ]
  },
  {
   "cell_type": "code",
   "execution_count": null,
   "metadata": {},
   "outputs": [],
   "source": [
    "# Dependencies / Libraries\n",
    "'''\n",
    "1. Import Frame Stacker Wrapper and Grayscaling Wrapper\n",
    "2. Import Vectorization Wrappers\n",
    "3. Import MatplotLib  => Will Show us the impact of Frame Stacking\n",
    "\n",
    "=>  Stablebaselines3 is a reiforcement library (https://stable-baselines3.readthedocs.io/en/master/)\n",
    "    - Gives algorithms that are used to train your AI model\n",
    "'''\n",
    "\n",
    "from gym_super_mario_bros import FrameStack, GrayScaleObservation\n",
    "from stable_baselines3.common.vec_env import VecFrameStack, DummyVecEnv\n",
    "from matplotlib import pyplot as pyplot"
   ]
  },
  {
   "cell_type": "code",
   "execution_count": 13,
   "metadata": {},
   "outputs": [
    {
     "ename": "NameError",
     "evalue": "name 'GrayScaleObservation' is not defined",
     "output_type": "error",
     "traceback": [
      "\u001b[0;31m---------------------------------------------------------------------------\u001b[0m",
      "\u001b[0;31mNameError\u001b[0m                                 Traceback (most recent call last)",
      "\u001b[0;32m/tmp/ipykernel_5959/77558990.py\u001b[0m in \u001b[0;36m<module>\u001b[0;34m\u001b[0m\n\u001b[1;32m     11\u001b[0m \u001b[0menv\u001b[0m \u001b[0;34m=\u001b[0m\u001b[0mJoypadSpace\u001b[0m\u001b[0;34m(\u001b[0m\u001b[0menv\u001b[0m\u001b[0;34m,\u001b[0m\u001b[0mSIMPLE_MOVEMENT\u001b[0m\u001b[0;34m)\u001b[0m\u001b[0;34m\u001b[0m\u001b[0;34m\u001b[0m\u001b[0m\n\u001b[1;32m     12\u001b[0m \u001b[0;34m\u001b[0m\u001b[0m\n\u001b[0;32m---> 13\u001b[0;31m \u001b[0menv\u001b[0m \u001b[0;34m=\u001b[0m \u001b[0mGrayScaleObservation\u001b[0m\u001b[0;34m(\u001b[0m\u001b[0menv\u001b[0m\u001b[0;34m,\u001b[0m\u001b[0mkeep_dim\u001b[0m\u001b[0;34m=\u001b[0m\u001b[0;32mTrue\u001b[0m\u001b[0;34m)\u001b[0m\u001b[0;31m#\u001b[0m\u001b[0;34m\u001b[0m\u001b[0;34m\u001b[0m\u001b[0m\n\u001b[0m\u001b[1;32m     14\u001b[0m \u001b[0;34m\u001b[0m\u001b[0m\n\u001b[1;32m     15\u001b[0m \u001b[0mstate\u001b[0m \u001b[0;34m=\u001b[0m \u001b[0menv\u001b[0m\u001b[0;34m.\u001b[0m\u001b[0mreset\u001b[0m\u001b[0;34m(\u001b[0m\u001b[0;34m)\u001b[0m\u001b[0;34m\u001b[0m\u001b[0;34m\u001b[0m\u001b[0m\n",
      "\u001b[0;31mNameError\u001b[0m: name 'GrayScaleObservation' is not defined"
     ]
    }
   ],
   "source": [
    "'''\n",
    "1 . Create the Base Environment\n",
    "2 . Simplify the Controls\n",
    "3 . GrayScale Environment\n",
    "4 . Wrap inside the Dummy environment\n",
    "5 . Stack the Frames\n",
    "\n",
    "'''\n",
    "\n",
    "env = gym_super_mario_bros.make('SuperMarioBros-v0')\n",
    "env =JoypadSpace(env,SIMPLE_MOVEMENT) \n",
    "\n",
    "env = GrayScaleObservation(env,keep_dim=True)#\n",
    "\n",
    "state = env.reset()\n",
    "state.shape\n",
    "'''\n",
    "Without GrayScaling, you get (240,256,3) => 240 * 256 pixels, and 3 channels ==> Colored Picture\n",
    "'''\n",
    "\n",
    "#Use MatplotLib to show the game Frame\n"
   ]
  },
  {
   "cell_type": "code",
   "execution_count": null,
   "metadata": {},
   "outputs": [],
   "source": [
    "#Visualize the Frames\n",
    "\n"
   ]
  }
 ],
 "metadata": {
  "interpreter": {
   "hash": "916dbcbb3f70747c44a77c7bcd40155683ae19c65e1c03b4aa3499c5328201f1"
  },
  "kernelspec": {
   "display_name": "Python 3.8.10 64-bit",
   "language": "python",
   "name": "python3"
  },
  "language_info": {
   "codemirror_mode": {
    "name": "ipython",
    "version": 3
   },
   "file_extension": ".py",
   "mimetype": "text/x-python",
   "name": "python",
   "nbconvert_exporter": "python",
   "pygments_lexer": "ipython3",
   "version": "3.8.10"
  },
  "orig_nbformat": 4
 },
 "nbformat": 4,
 "nbformat_minor": 2
}
