{
 "cells": [
  {
   "cell_type": "markdown",
   "metadata": {},
   "source": [
    "1. SetUp SuperMario"
   ]
  },
  {
   "cell_type": "code",
   "execution_count": null,
   "metadata": {},
   "outputs": [],
   "source": [
    "'''SetUp of Super Mario'''\n",
    "\n",
    "'''\n",
    "\n",
    "        Libraries installed\n",
    "==================================\n",
    "1. pip install gym-super-mario-bros  => (\"Allows us to play Mario in Python\") {https://pypi.org/project/gym-super-mario-bros/}\n",
    "2. pip install nes-py {https://pypi.org/project/nes-py/}\n",
    "'''"
   ]
  },
  {
   "cell_type": "code",
   "execution_count": 2,
   "metadata": {},
   "outputs": [],
   "source": [
    "'''Importing Dependencies'''\n",
    "# 1. Import Super Mario\n",
    "# 2. Import the Joypad Wrapper (\"Wraps the Movement of our model ==> Joypadspace wrapper makes it easier for our AI to learn how to play\")\n",
    "# 3. Import the Simplified Controls\n",
    "\n",
    "import gym_super_mario_bros\n",
    "from nes_py.wrappers import JoypadSpace\n",
    "from gym_super_mario_bros.actions import SIMPLE_MOVEMENT\n",
    "\n"
   ]
  },
  {
   "cell_type": "code",
   "execution_count": 3,
   "metadata": {},
   "outputs": [
    {
     "data": {
      "text/plain": [
       "[['NOOP'],\n",
       " ['right'],\n",
       " ['right', 'A'],\n",
       " ['right', 'B'],\n",
       " ['right', 'A', 'B'],\n",
       " ['A'],\n",
       " ['left']]"
      ]
     },
     "execution_count": 3,
     "metadata": {},
     "output_type": "execute_result"
    }
   ],
   "source": [
    "SIMPLE_MOVEMENT # Shows us the Directions the AI is limited to."
   ]
  },
  {
   "cell_type": "code",
   "execution_count": 4,
   "metadata": {},
   "outputs": [
    {
     "name": "stderr",
     "output_type": "stream",
     "text": [
      "/home/dani/.local/lib/python3.8/site-packages/gym/envs/registration.py:505: UserWarning: \u001b[33mWARN: The environment SuperMarioBros-v0 is out of date. You should consider upgrading to version `v3` with the environment ID `SuperMarioBros-v3`.\u001b[0m\n",
      "  logger.warn(\n"
     ]
    }
   ],
   "source": [
    "# SetUp the Game\n",
    "# Environment\n",
    "env = gym_super_mario_bros.make('SuperMarioBros-v0')\n",
    "env = JoypadSpace(env,SIMPLE_MOVEMENT)"
   ]
  },
  {
   "cell_type": "code",
   "execution_count": 5,
   "metadata": {},
   "outputs": [
    {
     "data": {
      "text/plain": [
       "(240, 256, 3)"
      ]
     },
     "execution_count": 5,
     "metadata": {},
     "output_type": "execute_result"
    }
   ],
   "source": [
    "env.action_space # (Try with or without Wrapper) [Lists the Number of Actions]\n",
    "# Check the Observation Space\n",
    "env.observation_space.shape"
   ]
  },
  {
   "cell_type": "code",
   "execution_count": null,
   "metadata": {},
   "outputs": [],
   "source": [
    "# Flag set to True, aloows to start the game\n",
    "done = True\n",
    "\n",
    " # Loop through each Frame in the game\n",
    "for step in range(100000):\n",
    "    if done:\n",
    "        # Start the game\n",
    "        env.reset() # Allows us to restart the game\n",
    "\n",
    "    # Pass through an action to the game  && Do random actions\n",
    "    state,reward, done, info = env.step(env.action_space.sample())\n",
    "    \n",
    "    # Show game on the Screen\n",
    "    env.render()\n",
    "\n",
    "# Close the Game\n",
    "env.close()"
   ]
  },
  {
   "cell_type": "code",
   "execution_count": 35,
   "metadata": {},
   "outputs": [
    {
     "data": {
      "text/plain": [
       "{'coins': 0,\n",
       " 'flag_get': False,\n",
       " 'life': 2,\n",
       " 'score': 0,\n",
       " 'stage': 1,\n",
       " 'status': 'small',\n",
       " 'time': 400,\n",
       " 'world': 1,\n",
       " 'x_pos': 40,\n",
       " 'y_pos': 79}"
      ]
     },
     "execution_count": 35,
     "metadata": {},
     "output_type": "execute_result"
    }
   ],
   "source": [
    "'''Explaining the State, Reward, Done && Info'''\n",
    "# env.reset()\n",
    "state = env.reset()\n",
    "state.shape # A state is basically a Frame from the game\n",
    "\n",
    "# On taking a Step, 4 values are returned\n",
    "''' \n",
    "- State => (env.step(1)[0] (Particular frame)\n",
    "- Reward => (env.step(1)[1] (Reward obtained)\n",
    "- Done => (env.step(1)[0] (Whether we are dead or not)\n",
    "- Info => (env.step(1)[0] (Basic Info)\n",
    "\n",
    "'''\n",
    "# env.step(1)[0]\n",
    "# env.step(1)[1]\n",
    "# env.step(1)[2]\n",
    "# env.step(1)[3]"
   ]
  },
  {
   "cell_type": "markdown",
   "metadata": {},
   "source": [
    "2. Pre-Processing the Game Environment"
   ]
  },
  {
   "cell_type": "code",
   "execution_count": null,
   "metadata": {},
   "outputs": [],
   "source": [
    "'''     \n",
    "    Pre-processing steps\n",
    "============================\n",
    "-  Gray Scaling (Cuts down data the AI has to learn from)\n",
    "-  Frame Stacking (Gives our model memory, Helps determine Trajectory and Velocity)\n",
    "'''"
   ]
  },
  {
   "cell_type": "code",
   "execution_count": null,
   "metadata": {},
   "outputs": [],
   "source": [
    "# Dependencies / Libraries\n",
    "'''\n",
    "1. Import Frame Stacker Wrapper and Grayscaling Wrapper\n",
    "2. Import Vectorization Wrappers\n",
    "3. Import MatplotLib \n",
    "\n",
    "=>  Stablebaselines3 is a reiforcement library (https://stable-baselines3.readthedocs.io/en/master/)\n",
    "'''\n",
    "\n",
    "from gym_super_mario_bros import FrameStack, GrayScaleObservation\n",
    "from stable_baseline3.common.vec_env import VecFrameStack, DummyVecEnv"
   ]
  }
 ],
 "metadata": {
  "interpreter": {
   "hash": "916dbcbb3f70747c44a77c7bcd40155683ae19c65e1c03b4aa3499c5328201f1"
  },
  "kernelspec": {
   "display_name": "Python 3.8.10 64-bit",
   "language": "python",
   "name": "python3"
  },
  "language_info": {
   "codemirror_mode": {
    "name": "ipython",
    "version": 3
   },
   "file_extension": ".py",
   "mimetype": "text/x-python",
   "name": "python",
   "nbconvert_exporter": "python",
   "pygments_lexer": "ipython3",
   "version": "3.8.10"
  },
  "orig_nbformat": 4
 },
 "nbformat": 4,
 "nbformat_minor": 2
}
